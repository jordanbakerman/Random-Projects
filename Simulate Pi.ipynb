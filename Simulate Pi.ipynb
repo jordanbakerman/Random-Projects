{
 "cells": [
  {
   "cell_type": "markdown",
   "metadata": {},
   "source": [
    "# Simulate Pi"
   ]
  },
  {
   "cell_type": "code",
   "execution_count": 1,
   "metadata": {},
   "outputs": [],
   "source": [
    "import numpy as np\n",
    "import matplotlib.pyplot as plt"
   ]
  },
  {
   "cell_type": "markdown",
   "metadata": {},
   "source": [
    "## Parameters"
   ]
  },
  {
   "cell_type": "code",
   "execution_count": 2,
   "metadata": {},
   "outputs": [],
   "source": [
    "min_num = -1\n",
    "max_num = 1\n",
    "samples_num = 100000"
   ]
  },
  {
   "cell_type": "markdown",
   "metadata": {},
   "source": [
    "## Loop"
   ]
  },
  {
   "cell_type": "code",
   "execution_count": 3,
   "metadata": {},
   "outputs": [
    {
     "name": "stdout",
     "output_type": "stream",
     "text": [
      "Pi Estimate is 3.13444\n"
     ]
    }
   ],
   "source": [
    "unit_circle_counter = 0\n",
    "for i in range(samples_num):\n",
    "    x = np.random.uniform(min_num, max_num)\n",
    "    y = np.random.uniform(min_num, max_num)\n",
    "    euclid = (x**2 + y**2)**.5\n",
    "    unit_circle_counter+=(euclid <1)\n",
    "\n",
    "pi_est = (unit_circle_counter/samples_num)*4\n",
    "print(\"Pi Estimate is\", pi_est)"
   ]
  },
  {
   "cell_type": "markdown",
   "metadata": {},
   "source": [
    "## Array"
   ]
  },
  {
   "cell_type": "code",
   "execution_count": 4,
   "metadata": {},
   "outputs": [
    {
     "data": {
      "text/plain": [
       "array([[-0.0765591 ,  0.21835979],\n",
       "       [ 0.32223245,  0.67653326],\n",
       "       [-0.21071677, -0.36888741],\n",
       "       ...,\n",
       "       [ 0.19709062, -0.92206097],\n",
       "       [-0.10271585,  0.15023772],\n",
       "       [-0.92133284,  0.22783568]])"
      ]
     },
     "execution_count": 4,
     "metadata": {},
     "output_type": "execute_result"
    }
   ],
   "source": [
    "sample_array = np.random.uniform(min_num,max_num, size=[samples_num,2])\n",
    "sample_array"
   ]
  },
  {
   "cell_type": "code",
   "execution_count": 5,
   "metadata": {},
   "outputs": [],
   "source": [
    "counter_array = np.zeros(samples_num)\n",
    "for i in range(samples_num):\n",
    "    if sum(sample_array[i,:]**2)**.5 < 1:\n",
    "        counter_array[i]=1"
   ]
  },
  {
   "cell_type": "code",
   "execution_count": 6,
   "metadata": {},
   "outputs": [
    {
     "name": "stdout",
     "output_type": "stream",
     "text": [
      "Pi Estimate is 3.14148\n"
     ]
    }
   ],
   "source": [
    "pi_est = (sum(counter_array)/samples_num)*4\n",
    "print(\"Pi Estimate is\", pi_est)"
   ]
  },
  {
   "cell_type": "code",
   "execution_count": 7,
   "metadata": {},
   "outputs": [
    {
     "data": {
      "image/png": "[encoded data removed]",
      "text/plain": [
       "<Figure size 432x288 with 1 Axes>"
      ]
     },
     "metadata": {
      "needs_background": "light"
     },
     "output_type": "display_data"
    }
   ],
   "source": [
    "plt.scatter(sample_array[:,0][counter_array==1],sample_array[:,1][counter_array==1], c=\"blue\")\n",
    "plt.scatter(sample_array[:,0][counter_array==0],sample_array[:,1][counter_array==0], c=\"red\")\n",
    "plt.show()"
   ]
  },
  {
   "cell_type": "code",
   "execution_count": null,
   "metadata": {},
   "outputs": [],
   "source": []
  }
 ],
 "metadata": {
  "kernelspec": {
   "display_name": "Python 3",
   "language": "python",
   "name": "python3"
  },
  "language_info": {
   "codemirror_mode": {
    "name": "ipython",
    "version": 3
   },
   "file_extension": ".py",
   "mimetype": "text/x-python",
   "name": "python",
   "nbconvert_exporter": "python",
   "pygments_lexer": "ipython3",
   "version": "3.7.4"
  }
 },
 "nbformat": 4,
 "nbformat_minor": 2
}
